{
 "cells": [
  {
   "cell_type": "code",
   "execution_count": 2,
   "id": "a9aa169c",
   "metadata": {},
   "outputs": [],
   "source": [
    "import pandas as pd\n",
    "import numpy as np\n",
    "import joblib"
   ]
  },
  {
   "cell_type": "code",
   "execution_count": 3,
   "id": "d16f1053",
   "metadata": {},
   "outputs": [
    {
     "name": "stderr",
     "output_type": "stream",
     "text": [
      "C:\\Users\\Solo\\anaconda3\\envs\\DeepLearning\\lib\\site-packages\\xgboost\\compat.py:36: FutureWarning: pandas.Int64Index is deprecated and will be removed from pandas in a future version. Use pandas.Index with the appropriate dtype instead.\n",
      "  from pandas import MultiIndex, Int64Index\n"
     ]
    }
   ],
   "source": [
    "league_model = joblib.load(\"League_Predictions.pkl\")\n",
    "knockout_model = joblib.load(\"KnockOut_Predictions.pkl\")\n",
    "col_names = joblib.load(\"col_names.pkl\")"
   ]
  },
  {
   "cell_type": "code",
   "execution_count": 38,
   "id": "63e41be1",
   "metadata": {},
   "outputs": [],
   "source": [
    "Team1 = \"Uruguay\"\n",
    "Team2 = \"Brazil\"\n",
    "Team1_FIFA_RANK = 10\n",
    "Team2_FIFA_RANK = 1\n",
    "Team1_Goalkeeper_Score = 80\n",
    "Team2_Goalkeeper_Score = 89\n",
    "Team1_Defense = 81\n",
    "Team1_Offense = 84\n",
    "Team1_Midfield = 80\n",
    "Team2_Defense = 85\n",
    "Team2_Offense = 86\n",
    "Team2_Midfield = 85"
   ]
  },
  {
   "cell_type": "code",
   "execution_count": 39,
   "id": "c2791156",
   "metadata": {},
   "outputs": [],
   "source": [
    "list_value = [[Team1, Team2, Team1_FIFA_RANK, Team2_FIFA_RANK, Team1_Goalkeeper_Score, Team2_Goalkeeper_Score, Team1_Defense, Team1_Offense, Team1_Midfield, Team2_Defense, Team2_Offense, Team2_Midfield]]"
   ]
  },
  {
   "cell_type": "code",
   "execution_count": 40,
   "id": "b6c3791f",
   "metadata": {},
   "outputs": [
    {
     "data": {
      "text/plain": [
       "[['Uruguay', 'Brazil', 10, 1, 80, 89, 81, 84, 80, 85, 86, 85]]"
      ]
     },
     "execution_count": 40,
     "metadata": {},
     "output_type": "execute_result"
    }
   ],
   "source": [
    "list_value"
   ]
  },
  {
   "cell_type": "code",
   "execution_count": 41,
   "id": "ac4e73f4",
   "metadata": {},
   "outputs": [],
   "source": [
    "df = pd.DataFrame(data=list_value,columns=col_names)"
   ]
  },
  {
   "cell_type": "code",
   "execution_count": 42,
   "id": "aa81116b",
   "metadata": {},
   "outputs": [
    {
     "data": {
      "text/html": [
       "<div>\n",
       "<style scoped>\n",
       "    .dataframe tbody tr th:only-of-type {\n",
       "        vertical-align: middle;\n",
       "    }\n",
       "\n",
       "    .dataframe tbody tr th {\n",
       "        vertical-align: top;\n",
       "    }\n",
       "\n",
       "    .dataframe thead th {\n",
       "        text-align: right;\n",
       "    }\n",
       "</style>\n",
       "<table border=\"1\" class=\"dataframe\">\n",
       "  <thead>\n",
       "    <tr style=\"text-align: right;\">\n",
       "      <th></th>\n",
       "      <th>Team1</th>\n",
       "      <th>Team2</th>\n",
       "      <th>Team1_FIFA_RANK</th>\n",
       "      <th>Team2_FIFA_RANK</th>\n",
       "      <th>Team1_Goalkeeper_Score</th>\n",
       "      <th>Team2_Goalkeeper_Score</th>\n",
       "      <th>Team1_Defense</th>\n",
       "      <th>Team1_Offense</th>\n",
       "      <th>Team1_Midfield</th>\n",
       "      <th>Team2_Defense</th>\n",
       "      <th>Team2_Offense</th>\n",
       "      <th>Team2_Midfield</th>\n",
       "    </tr>\n",
       "  </thead>\n",
       "  <tbody>\n",
       "    <tr>\n",
       "      <th>0</th>\n",
       "      <td>Uruguay</td>\n",
       "      <td>Brazil</td>\n",
       "      <td>10</td>\n",
       "      <td>1</td>\n",
       "      <td>80</td>\n",
       "      <td>89</td>\n",
       "      <td>81</td>\n",
       "      <td>84</td>\n",
       "      <td>80</td>\n",
       "      <td>85</td>\n",
       "      <td>86</td>\n",
       "      <td>85</td>\n",
       "    </tr>\n",
       "  </tbody>\n",
       "</table>\n",
       "</div>"
      ],
      "text/plain": [
       "     Team1   Team2  Team1_FIFA_RANK  Team2_FIFA_RANK  Team1_Goalkeeper_Score  \\\n",
       "0  Uruguay  Brazil               10                1                      80   \n",
       "\n",
       "   Team2_Goalkeeper_Score  Team1_Defense  Team1_Offense  Team1_Midfield  \\\n",
       "0                      89             81             84              80   \n",
       "\n",
       "   Team2_Defense  Team2_Offense  Team2_Midfield  \n",
       "0             85             86              85  "
      ]
     },
     "execution_count": 42,
     "metadata": {},
     "output_type": "execute_result"
    }
   ],
   "source": [
    "df"
   ]
  },
  {
   "cell_type": "code",
   "execution_count": 43,
   "id": "cac3042c",
   "metadata": {},
   "outputs": [
    {
     "data": {
      "text/plain": [
       "array([0], dtype=int64)"
      ]
     },
     "execution_count": 43,
     "metadata": {},
     "output_type": "execute_result"
    }
   ],
   "source": [
    "league_model.predict(df)"
   ]
  },
  {
   "cell_type": "code",
   "execution_count": 44,
   "id": "985c8634",
   "metadata": {},
   "outputs": [
    {
     "data": {
      "text/plain": [
       "array([0], dtype=int64)"
      ]
     },
     "execution_count": 44,
     "metadata": {},
     "output_type": "execute_result"
    }
   ],
   "source": [
    "knockout_model.predict(df)"
   ]
  },
  {
   "cell_type": "code",
   "execution_count": 45,
   "id": "5b0eebd4",
   "metadata": {},
   "outputs": [
    {
     "data": {
      "text/plain": [
       "array([[0.69, 0.31]])"
      ]
     },
     "execution_count": 45,
     "metadata": {},
     "output_type": "execute_result"
    }
   ],
   "source": [
    "knockout_model.predict_proba(df)"
   ]
  },
  {
   "cell_type": "code",
   "execution_count": null,
   "id": "d9d5a9c6",
   "metadata": {},
   "outputs": [],
   "source": []
  }
 ],
 "metadata": {
  "kernelspec": {
   "display_name": "deepLearning",
   "language": "python",
   "name": "deeplearning"
  },
  "language_info": {
   "codemirror_mode": {
    "name": "ipython",
    "version": 3
   },
   "file_extension": ".py",
   "mimetype": "text/x-python",
   "name": "python",
   "nbconvert_exporter": "python",
   "pygments_lexer": "ipython3",
   "version": "3.9.13"
  }
 },
 "nbformat": 4,
 "nbformat_minor": 5
}
